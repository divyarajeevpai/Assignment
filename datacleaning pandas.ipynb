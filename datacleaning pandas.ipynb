{
 "cells": [
  {
   "cell_type": "markdown",
   "metadata": {},
   "source": [
    "It happens all the time: someone gives you data containing malformed strings,\n",
    "Python, lists and missing data. How do you tidy it up so you can get on with the\n",
    "analysis?\n",
    "Take this monstrosity as the DataFrame to use in the following puzzles:\n",
    "df = pd.DataFrame({'From_To': ['LoNDon_paris', 'MAdrid_miLAN','londON_StockhOlm','Budapest_PaRis', 'Brussels_londOn'],\n",
    "'FlightNumber': [10045, np.nan, 10065, np.nan, 10085],\n",
    "'RecentDelays': [[23, 47], [], [24, 43, 87], [13], [67, 32]],\n",
    "'Airline': ['KLM(!)', '<Air France> (12)', '(British Airways. )','12. Air France', '\"Swiss Air\"']})"
   ]
  },
  {
   "cell_type": "code",
   "execution_count": 278,
   "metadata": {},
   "outputs": [
    {
     "name": "stdout",
     "output_type": "stream",
     "text": [
      "            From_To  FlightNumber  RecentDelays              Airline\n",
      "0      LoNDon_paris       10045.0      [23, 47]               KLM(!)\n",
      "1      MAdrid_miLAN           NaN            []    <Air France> (12)\n",
      "2  londON_StockhOlm       10065.0  [24, 43, 87]  (British Airways. )\n",
      "3    Budapest_PaRis           NaN          [13]       12. Air France\n",
      "4   Brussels_londOn       10085.0      [67, 32]          \"Swiss Air\"\n"
     ]
    }
   ],
   "source": [
    "#Creating the dataframe\n",
    "import pandas as pd\n",
    "import numpy as np\n",
    "df = pd.DataFrame({'From_To': ['LoNDon_paris', 'MAdrid_miLAN','londON_StockhOlm','Budapest_PaRis', 'Brussels_londOn'],\n",
    "'FlightNumber': [10045, np.nan, 10065, np.nan, 10085],\n",
    "'RecentDelays': [[23, 47], [], [24, 43, 87], [13], [67, 32]],\n",
    "'Airline': ['KLM(!)', '<Air France> (12)', '(British Airways. )','12. Air France', '\"Swiss Air\"']})\n",
    "#Displaying the dataframe\n",
    "print(df)"
   ]
  },
  {
   "cell_type": "markdown",
   "metadata": {},
   "source": [
    "1. Some values in the the FlightNumber column are missing. These numbers are\n",
    "meant to increase by 10 with each row so 10055 and 10075 need to be put in\n",
    "place. Fill in these missing numbers and make the column an integer column\n",
    "(instead of a float column)."
   ]
  },
  {
   "cell_type": "code",
   "execution_count": 279,
   "metadata": {},
   "outputs": [],
   "source": [
    "df['FlightNumber'].fillna(value='Missing',inplace=True)"
   ]
  },
  {
   "cell_type": "code",
   "execution_count": 280,
   "metadata": {},
   "outputs": [],
   "source": [
    "for i,val in enumerate(df['FlightNumber']):\n",
    "    if(val =='Missing'):\n",
    "        df['FlightNumber'][i]=df['FlightNumber'][i-1]+10"
   ]
  },
  {
   "cell_type": "code",
   "execution_count": 281,
   "metadata": {},
   "outputs": [
    {
     "name": "stdout",
     "output_type": "stream",
     "text": [
      "0    10045\n",
      "1    10055\n",
      "2    10065\n",
      "3    10075\n",
      "4    10085\n",
      "Name: FlightNumber, dtype: object\n"
     ]
    }
   ],
   "source": [
    "print (df['FlightNumber'])"
   ]
  },
  {
   "cell_type": "code",
   "execution_count": 282,
   "metadata": {},
   "outputs": [],
   "source": [
    "#Converting the dtype\n",
    "df['FlightNumber']=df['FlightNumber'].astype(int)"
   ]
  },
  {
   "cell_type": "code",
   "execution_count": 283,
   "metadata": {},
   "outputs": [
    {
     "data": {
      "text/plain": [
       "From_To         object\n",
       "FlightNumber     int32\n",
       "RecentDelays    object\n",
       "Airline         object\n",
       "dtype: object"
      ]
     },
     "execution_count": 283,
     "metadata": {},
     "output_type": "execute_result"
    }
   ],
   "source": [
    "df.dtypes"
   ]
  },
  {
   "cell_type": "markdown",
   "metadata": {},
   "source": [
    "2. The From_To column would be better as two separate columns! Split each\n",
    "string on the underscore delimiter _ to give a new temporary DataFrame with\n",
    "the correct values. Assign the correct column names to this temporary\n",
    "DataFrame."
   ]
  },
  {
   "cell_type": "code",
   "execution_count": 284,
   "metadata": {},
   "outputs": [],
   "source": [
    "#Creating a copy\n",
    "df1=df.copy()\n",
    "df1=df1.drop(['FlightNumber','RecentDelays','Airline'],axis=1)"
   ]
  },
  {
   "cell_type": "code",
   "execution_count": 285,
   "metadata": {},
   "outputs": [
    {
     "name": "stdout",
     "output_type": "stream",
     "text": [
      "<zip object at 0x0BD03A30>\n"
     ]
    },
    {
     "data": {
      "text/plain": [
       "zip"
      ]
     },
     "execution_count": 285,
     "metadata": {},
     "output_type": "execute_result"
    }
   ],
   "source": [
    "#Extarcting the value part and storing in a object\n",
    "items=df1.From_To.items()\n",
    "print(items)\n",
    "type(items)"
   ]
  },
  {
   "cell_type": "code",
   "execution_count": 286,
   "metadata": {},
   "outputs": [],
   "source": [
    "#Extrating only the value part\n",
    "fromto=[]\n",
    "for i in items :\n",
    "    fromto.append(i[1])"
   ]
  },
  {
   "cell_type": "code",
   "execution_count": 287,
   "metadata": {},
   "outputs": [
    {
     "data": {
      "text/plain": [
       "['LoNDon_paris',\n",
       " 'MAdrid_miLAN',\n",
       " 'londON_StockhOlm',\n",
       " 'Budapest_PaRis',\n",
       " 'Brussels_londOn']"
      ]
     },
     "execution_count": 287,
     "metadata": {},
     "output_type": "execute_result"
    }
   ],
   "source": [
    "fromto"
   ]
  },
  {
   "cell_type": "code",
   "execution_count": 288,
   "metadata": {},
   "outputs": [
    {
     "name": "stdout",
     "output_type": "stream",
     "text": [
      "[['LoNDon', 'paris'], ['MAdrid', 'miLAN'], ['londON', 'StockhOlm'], ['Budapest', 'PaRis'], ['Brussels', 'londOn']]\n",
      "['LoNDon', 'MAdrid', 'londON', 'Budapest', 'Brussels'] ['paris', 'miLAN', 'StockhOlm', 'PaRis', 'londOn']\n"
     ]
    }
   ],
   "source": [
    "#Storing the first part and second part in separate list\n",
    "name=[]\n",
    "fstname=[]\n",
    "lastname=[]\n",
    "for i in fromto:\n",
    "    name.append(i.split(\"_\"))\n",
    "print(name)\n",
    "for i in name:\n",
    "    fstname.append(i[0])\n",
    "    lastname.append(i[1])\n",
    "print(fstname,lastname)"
   ]
  },
  {
   "cell_type": "code",
   "execution_count": 289,
   "metadata": {},
   "outputs": [],
   "source": [
    "#Adding to the copied data frame\n",
    "df1['From']=pd.Series(fstname)\n",
    "df1['To']=pd.Series(lastname)"
   ]
  },
  {
   "cell_type": "code",
   "execution_count": 290,
   "metadata": {},
   "outputs": [
    {
     "name": "stdout",
     "output_type": "stream",
     "text": [
      "            From_To      From         To\n",
      "0      LoNDon_paris    LoNDon      paris\n",
      "1      MAdrid_miLAN    MAdrid      miLAN\n",
      "2  londON_StockhOlm    londON  StockhOlm\n",
      "3    Budapest_PaRis  Budapest      PaRis\n",
      "4   Brussels_londOn  Brussels     londOn\n"
     ]
    }
   ],
   "source": [
    "#Displaying the dataframe\n",
    "print(df1)"
   ]
  },
  {
   "cell_type": "markdown",
   "metadata": {},
   "source": [
    "3.Notice how the capitalisation of the city names is all mixed up in this\n",
    "temporary DataFrame. Standardise the strings so that only the first letter is\n",
    "uppercase (e.g. \"londON\" should become \"London\".)"
   ]
  },
  {
   "cell_type": "code",
   "execution_count": 291,
   "metadata": {},
   "outputs": [
    {
     "name": "stdout",
     "output_type": "stream",
     "text": [
      "['London', 'Madrid', 'London', 'Budapest', 'Brussels']\n",
      "['Paris', 'Milan', 'Stockholm', 'Paris', 'London']\n"
     ]
    }
   ],
   "source": [
    "#Extracting the values from the Series in dataframe and modifying so that only first letter is uppercase\n",
    "fromitem=df1.From.items()\n",
    "type(fromitem)\n",
    "ufrom=[]\n",
    "for i in fromitem:\n",
    "    ufrom.append(i[1].title())\n",
    "print(ufrom)\n",
    "toitem=df1.To.items()\n",
    "uto=[]\n",
    "for i in toitem:\n",
    "    uto.append(i[1].title())\n",
    "print(uto)"
   ]
  },
  {
   "cell_type": "code",
   "execution_count": 292,
   "metadata": {},
   "outputs": [
    {
     "name": "stdout",
     "output_type": "stream",
     "text": [
      "       From         To\n",
      "0    London      Paris\n",
      "1    Madrid      Milan\n",
      "2    London  Stockholm\n",
      "3  Budapest      Paris\n",
      "4  Brussels     London\n"
     ]
    }
   ],
   "source": [
    "#Adding the corrected values to the new dataframe\n",
    "df1['Fromcorrected']=pd.Series(ufrom)\n",
    "df1['Tocorrected']=pd.Series(uto)\n",
    "df1=df1.drop(['From','To','From_To'],axis=1)\n",
    "df1=df1.rename(columns={'Fromcorrected':'From','Tocorrected':'To'})\n",
    "print(df1)"
   ]
  },
  {
   "cell_type": "markdown",
   "metadata": {},
   "source": [
    "4. Delete the From_To column from df and attach the temporary DataFrame from the previous questions."
   ]
  },
  {
   "cell_type": "code",
   "execution_count": 293,
   "metadata": {},
   "outputs": [],
   "source": [
    "#Dropping From_To\n",
    "df=df.drop('From_To',axis=1)"
   ]
  },
  {
   "cell_type": "code",
   "execution_count": 294,
   "metadata": {},
   "outputs": [
    {
     "name": "stdout",
     "output_type": "stream",
     "text": [
      "   FlightNumber  RecentDelays              Airline\n",
      "0         10045      [23, 47]               KLM(!)\n",
      "1         10055            []    <Air France> (12)\n",
      "2         10065  [24, 43, 87]  (British Airways. )\n",
      "3         10075          [13]       12. Air France\n",
      "4         10085      [67, 32]          \"Swiss Air\"\n"
     ]
    }
   ],
   "source": [
    "print(df)"
   ]
  },
  {
   "cell_type": "code",
   "execution_count": 295,
   "metadata": {},
   "outputs": [],
   "source": [
    "#Concatinating\n",
    "df=pd.concat([df,df1],axis=1)"
   ]
  },
  {
   "cell_type": "code",
   "execution_count": 296,
   "metadata": {},
   "outputs": [
    {
     "name": "stdout",
     "output_type": "stream",
     "text": [
      "   FlightNumber  RecentDelays              Airline      From         To\n",
      "0         10045      [23, 47]               KLM(!)    London      Paris\n",
      "1         10055            []    <Air France> (12)    Madrid      Milan\n",
      "2         10065  [24, 43, 87]  (British Airways. )    London  Stockholm\n",
      "3         10075          [13]       12. Air France  Budapest      Paris\n",
      "4         10085      [67, 32]          \"Swiss Air\"  Brussels     London\n"
     ]
    }
   ],
   "source": [
    "print(df)"
   ]
  },
  {
   "cell_type": "markdown",
   "metadata": {},
   "source": [
    "5. In the RecentDelays column, the values have been entered into the DataFrame as a list. We would like each first value in its own column, each second value in its own column, and so on. If there isn't an Nth value, the value should be NaN.\n",
    "Expand the Series of lists into a DataFrame named delays, rename the columns delay_1, delay_2, etc. and replace the unwanted RecentDelays column in df with delays."
   ]
  },
  {
   "cell_type": "code",
   "execution_count": 299,
   "metadata": {},
   "outputs": [],
   "source": [
    "#Extracting the values\n",
    "rditem=df.RecentDelays.items()"
   ]
  },
  {
   "cell_type": "code",
   "execution_count": 300,
   "metadata": {},
   "outputs": [
    {
     "name": "stdout",
     "output_type": "stream",
     "text": [
      "[[23, 47], [], [24, 43, 87], [13], [67, 32]]\n"
     ]
    }
   ],
   "source": [
    "#Displaying the values\n",
    "rdlist=[]\n",
    "for i in rditem:\n",
    "    rdlist.append(i[1])\n",
    "print(rdlist)"
   ]
  },
  {
   "cell_type": "code",
   "execution_count": 328,
   "metadata": {},
   "outputs": [
    {
     "name": "stdout",
     "output_type": "stream",
     "text": [
      "[[23, 47, nan], [nan, nan, nan], [24, 43, 87], [13, nan, nan], [67, 32, nan]]\n"
     ]
    }
   ],
   "source": [
    "#Assining null values where there are no corresponding values in nth level\n",
    "len(rdlist)\n",
    "maxlenlist=max(len(i) for i in rdlist)\n",
    "maxlenlist\n",
    "delay1=[]\n",
    "delay2=[]\n",
    "delay3=[]\n",
    "for i in rdlist:\n",
    "    if len(i)<maxlenlist:\n",
    "        i.append(np.NaN)\n",
    "        if len(i)<maxlenlist:\n",
    "            i.append(np.NaN)\n",
    "            if len(i)<maxlenlist:\n",
    "                i.append(np.NaN)\n",
    "print(rdlist)"
   ]
  },
  {
   "cell_type": "code",
   "execution_count": 329,
   "metadata": {},
   "outputs": [
    {
     "name": "stdout",
     "output_type": "stream",
     "text": [
      "[23, nan, 24, 13, 67] [47, nan, 43, nan, 32] [nan, nan, 87, nan, nan]\n"
     ]
    }
   ],
   "source": [
    "#Assigning the values to delay column\n",
    "for i in rdlist:\n",
    "    delay1.append(i[0])\n",
    "    delay2.append(i[1])\n",
    "    delay3.append(i[2])\n",
    "print(delay1,delay2,delay3)"
   ]
  },
  {
   "cell_type": "code",
   "execution_count": 330,
   "metadata": {},
   "outputs": [],
   "source": [
    "#Adding to the dataframe\n",
    "df['delay1']=pd.Series(delay1)\n",
    "df['delay2']=pd.Series(delay2)\n",
    "df['delay3']=pd.Series(delay3)"
   ]
  },
  {
   "cell_type": "code",
   "execution_count": 336,
   "metadata": {},
   "outputs": [
    {
     "name": "stdout",
     "output_type": "stream",
     "text": [
      "   FlightNumber           Delays              Airline      From         To  \\\n",
      "0         10045    [23, 47, nan]               KLM(!)    London      Paris   \n",
      "1         10055  [nan, nan, nan]    <Air France> (12)    Madrid      Milan   \n",
      "2         10065     [24, 43, 87]  (British Airways. )    London  Stockholm   \n",
      "3         10075   [13, nan, nan]       12. Air France  Budapest      Paris   \n",
      "4         10085    [67, 32, nan]          \"Swiss Air\"  Brussels     London   \n",
      "\n",
      "   delay1  delay2  delay3  \n",
      "0    23.0    47.0     NaN  \n",
      "1     NaN     NaN     NaN  \n",
      "2    24.0    43.0    87.0  \n",
      "3    13.0     NaN     NaN  \n",
      "4    67.0    32.0     NaN  \n"
     ]
    }
   ],
   "source": [
    "#Renaming the RecentDelays column to Delays\n",
    "df=df.rename(columns={'RecentDelays':'Delays'})\n",
    "print(df)"
   ]
  }
 ],
 "metadata": {
  "kernelspec": {
   "display_name": "Python 3",
   "language": "python",
   "name": "python3"
  },
  "language_info": {
   "codemirror_mode": {
    "name": "ipython",
    "version": 3
   },
   "file_extension": ".py",
   "mimetype": "text/x-python",
   "name": "python",
   "nbconvert_exporter": "python",
   "pygments_lexer": "ipython3",
   "version": "3.7.6"
  }
 },
 "nbformat": 4,
 "nbformat_minor": 4
}
