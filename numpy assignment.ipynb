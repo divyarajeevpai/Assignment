{
 "cells": [
  {
   "cell_type": "markdown",
   "metadata": {},
   "source": [
    "Write a function so that the columns of the output matrix are powers of the input vector.\n",
    "The order of the powers is determined by the increasing boolean argument. \n",
    "Specifically, when increasing is False, the i-th output column is the input vector raised element-wise to the power of N-i-1.\n",
    "HINT: Such a matrix with a geometric progression in each row is named for Alexandre-Theophile Vandermonde."
   ]
  },
  {
   "cell_type": "code",
   "execution_count": 23,
   "metadata": {},
   "outputs": [
    {
     "name": "stdout",
     "output_type": "stream",
     "text": [
      "[[1 1 1]\n",
      " [4 2 1]\n",
      " [9 3 1]]\n",
      "[[1 1 1]\n",
      " [1 2 4]\n",
      " [1 3 9]]\n"
     ]
    }
   ],
   "source": [
    "import numpy as np\n",
    "#Creating function\n",
    "def opmat(ipvector,n,increasing):\n",
    "    if increasing:\n",
    "        ip=np.array([x**y for x in l for y in range(n)]).reshape(l.size,n)\n",
    "    elif not increasing:\n",
    "         ip=np.array([x**(n-y-1) for x in l for y in range(n)]).reshape(l.size,n)\n",
    "    return ip\n",
    "#Calling function with false\n",
    "ip=np.array([1,2,3])\n",
    "op=opmat(ip,3,False)\n",
    "print(op)\n",
    "#Calling function with true\n",
    "ip=np.array([1,2,3])\n",
    "op1=opmat(ip,3,True)\n",
    "print(op1)"
   ]
  },
  {
   "cell_type": "markdown",
   "metadata": {},
   "source": [
    "Write a function to find moving average in an array over a window:\n",
    "Test it over [3, 5, 7, 2, 8, 10, 11, 65, 72, 81, 99, 100, 150] and window of 3."
   ]
  },
  {
   "cell_type": "code",
   "execution_count": 1,
   "metadata": {},
   "outputs": [
    {
     "name": "stdout",
     "output_type": "stream",
     "text": [
      "[5.0, 4.666666666666667, 5.666666666666667, 6.666666666666667, 9.666666666666666, 28.666666666666668, 49.333333333333336, 72.66666666666667, 84.0, 93.33333333333333, 116.33333333333333]\n"
     ]
    }
   ],
   "source": [
    "import numpy as np\n",
    "#Defining the function\n",
    "def ma(l,k):\n",
    "    n=len(l)\n",
    "    m=n-k+1\n",
    "    i=0\n",
    "    movavg=[]\n",
    "    while i<m:\n",
    "        newwindow=l[i:i+k]\n",
    "        winavg=newwindow.mean()\n",
    "        movavg.append(winavg)\n",
    "        i+=1\n",
    "    return movavg\n",
    "#Testing the function\n",
    "l=np.array([3, 5, 7, 2, 8, 10, 11, 65, 72, 81, 99, 100, 150])\n",
    "k=3\n",
    "#Calling the function\n",
    "test=ma(l,k)\n",
    "print (test)"
   ]
  },
  {
   "cell_type": "code",
   "execution_count": null,
   "metadata": {},
   "outputs": [],
   "source": []
  }
 ],
 "metadata": {
  "kernelspec": {
   "display_name": "Python 3",
   "language": "python",
   "name": "python3"
  },
  "language_info": {
   "codemirror_mode": {
    "name": "ipython",
    "version": 3
   },
   "file_extension": ".py",
   "mimetype": "text/x-python",
   "name": "python",
   "nbconvert_exporter": "python",
   "pygments_lexer": "ipython3",
   "version": "3.6.10"
  }
 },
 "nbformat": 4,
 "nbformat_minor": 4
}
