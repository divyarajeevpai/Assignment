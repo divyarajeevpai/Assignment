{
 "cells": [
  {
   "cell_type": "markdown",
   "metadata": {},
   "source": [
    "1.1 Write a Python Program(with class concepts) to find the area of the triangle using the below\n",
    "formula.\n",
    "area = (s*(s-a)*(s-b)*(s-c)) ** 0.5\n",
    "Function to take the length of the sides of triangle from user should be defined in the parent\n",
    "class and function to calculate the area should be defined in subclass."
   ]
  },
  {
   "cell_type": "code",
   "execution_count": 73,
   "metadata": {},
   "outputs": [
    {
     "name": "stdout",
     "output_type": "stream",
     "text": [
      "7 8 9 are the sides of the traingle\n",
      "Area of the triangle:  26.832815729997478\n"
     ]
    }
   ],
   "source": [
    "class triangle:\n",
    "    def __init__(self,a,b,c):\n",
    "        self.a=a\n",
    "        self.b=b\n",
    "        self.c=c\n",
    "    def __str__(self) :\n",
    "        return \"%s %s %s are the sides of the traingle\" %(self.a,self.b,self.c)\n",
    "class area(triangle):\n",
    "    def __init__(self,a,b,c):\n",
    "        triangle.__init__(self,a,b,c)\n",
    "        s=(self.a+self.b+self.c)/2\n",
    "        areacalc=(s*(s-self.a)*(s-self.b)*(s-self.c)) ** 0.5    \n",
    "        print(\"Area of the triangle: \",areacalc)\n",
    "print(triangle1)\n",
    "triangle1=area(7,8,9)"
   ]
  },
  {
   "cell_type": "markdown",
   "metadata": {},
   "source": [
    "1.2 Write a function filter_long_words() that takes a list of words and an integer n and returns the list of words that are longer than n."
   ]
  },
  {
   "cell_type": "code",
   "execution_count": 87,
   "metadata": {},
   "outputs": [
    {
     "name": "stdout",
     "output_type": "stream",
     "text": [
      "Enter the list of words: My,name,is,Divya\n",
      "Enter the number: 3\n",
      "<class 'list'> <class 'int'>\n",
      "The list of words greater than 3 is: ['name', 'Divya']\n"
     ]
    }
   ],
   "source": [
    "#Defining the function\n",
    "def filter_long_words(mywords,n):\n",
    "    final=[i for i in mywords if len(i)>n]\n",
    "    return(final)\n",
    "#Taking User input\n",
    "words=input(\"Enter the list of words: \")\n",
    "words=list(words.split(\",\"))\n",
    "num=input(\"Enter the number: \")\n",
    "num=int(num)\n",
    "#Calling the function\n",
    "finalwords=filter_long_words(words,num)\n",
    "#Displaying the result\n",
    "print(\"The list of words greater than \"+str(num)+\" is:\",finalwords)"
   ]
  },
  {
   "cell_type": "markdown",
   "metadata": {},
   "source": [
    "2.1 Write a Python program using function concept that maps list of words into a list of integers representing the lengths of the corresponding words.\n",
    "Hint: If a list [ ab,cde,erty] is passed on to the python function output should come as [2,3,4]\n",
    "Here 2,3 and 4 are the lengths of the words in the list."
   ]
  },
  {
   "cell_type": "code",
   "execution_count": 88,
   "metadata": {},
   "outputs": [
    {
     "name": "stdout",
     "output_type": "stream",
     "text": [
      "Enter the list of words: My,name,is,Divya\n",
      "The list of words greater than is: [2, 4, 2, 5]\n"
     ]
    }
   ],
   "source": [
    "#Defining the function\n",
    "def filter_words(mywords):\n",
    "    final=[len(i) for i in mywords]\n",
    "    return(final)\n",
    "#Taking User input\n",
    "words=input(\"Enter the list of words: \")\n",
    "words=list(words.split(\",\"))\n",
    "#Calling the function\n",
    "finalwords=filter_words(words)\n",
    "#Displaying the result\n",
    "print(\"The list of words greater than is:\",finalwords)"
   ]
  },
  {
   "cell_type": "markdown",
   "metadata": {},
   "source": [
    "2.2 Write a Python function which takes a character (i.e. a string of length 1) and returns True if it is a vowel, False otherwise."
   ]
  },
  {
   "cell_type": "code",
   "execution_count": 97,
   "metadata": {},
   "outputs": [
    {
     "name": "stdout",
     "output_type": "stream",
     "text": [
      "Enter the character: b\n",
      "False\n"
     ]
    }
   ],
   "source": [
    "#Defining the function\n",
    "def filter_char(char):\n",
    "    lvowel=[\"a\",\"e\",\"i\",\"o\",\"u\"]\n",
    "    uvowel=[\"A\",\"E\",\"I\",\"O\",\"U\"]\n",
    "    if (ch in lvowel or ch in uvowel):\n",
    "        return True\n",
    "    else:\n",
    "        return False\n",
    "#Taking User input\n",
    "ch=input(\"Enter the character: \")\n",
    "#Calling the function\n",
    "result=filter_char(ch)\n",
    "#Displaying the result\n",
    "print(result)"
   ]
  }
 ],
 "metadata": {
  "kernelspec": {
   "display_name": "Python 3",
   "language": "python",
   "name": "python3"
  },
  "language_info": {
   "codemirror_mode": {
    "name": "ipython",
    "version": 3
   },
   "file_extension": ".py",
   "mimetype": "text/x-python",
   "name": "python",
   "nbconvert_exporter": "python",
   "pygments_lexer": "ipython3",
   "version": "3.7.6"
  }
 },
 "nbformat": 4,
 "nbformat_minor": 4
}
